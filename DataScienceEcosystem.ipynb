{
 "cells": [
  {
   "cell_type": "markdown",
   "id": "441f5245-ac6b-4241-9681-de02a09faac4",
   "metadata": {},
   "source": [
    "# Data Science Tools and Ecosystem\n"
   ]
  },
  {
   "cell_type": "markdown",
   "id": "f4ef2414-9bda-4faf-8db1-85ca351f33ff",
   "metadata": {},
   "source": [
    "In this notebook, Data Science Tools and Ecosystem are summarized.\n"
   ]
  },
  {
   "cell_type": "markdown",
   "id": "ce3e84dd-39d9-4f7a-a771-071ccf283569",
   "metadata": {},
   "source": [
    "some of the popular languages that Data Scientists use are:\n",
    "1 python\n",
    "2 R language\n",
    "3 java\n",
    "4 scala"
   ]
  },
  {
   "cell_type": "markdown",
   "id": "ccea1d33-b49c-4e52-a85c-c30706afa8c4",
   "metadata": {},
   "source": [
    "Some of the commonly used libraries used by Data Scientists include:\n",
    "1 scikitlearn\n",
    "2 pandas\n",
    "3 matplotlib\n",
    "4 seaborn "
   ]
  },
  {
   "cell_type": "markdown",
   "id": "19161529-f320-449b-8c65-c115a74bfd35",
   "metadata": {},
   "source": [
    "| Data Science Tools |\n",
    "|--------------------|\n",
    "| Jupyter Notebook  |\n",
    "| RStudio           |\n",
    "| Apache Zeppelin   |\n"
   ]
  },
  {
   "cell_type": "markdown",
   "id": "c178a7ca-3e31-418e-a5f7-e640f2dfcbd2",
   "metadata": {},
   "source": [
    "### Below are a few examples of evaluating arithmetic expressions in Python.\n"
   ]
  },
  {
   "cell_type": "code",
   "execution_count": 2,
   "id": "e1023ce1-3a80-474e-82ac-dd9411442ddd",
   "metadata": {},
   "outputs": [
    {
     "data": {
      "text/plain": [
       "17"
      ]
     },
     "execution_count": 2,
     "metadata": {},
     "output_type": "execute_result"
    }
   ],
   "source": [
    "# This a simple arithmetic expression to mutiply then add integers.\n",
    "(3*4)+5"
   ]
  },
  {
   "cell_type": "code",
   "execution_count": 9,
   "id": "553b1b1f-1fb1-42af-9260-a78565d6f9bc",
   "metadata": {},
   "outputs": [
    {
     "name": "stdout",
     "output_type": "stream",
     "text": [
      "200 minutes is equal to: 3.3333333333333335 Hours\n"
     ]
    }
   ],
   "source": [
    "# This will convert 200 minutes to hours by diving by 60\n",
    "print(\"200 minutes is equal to:\",200/60  ,\"Hours\")"
   ]
  },
  {
   "cell_type": "markdown",
   "id": "81462e04-43f4-4157-954a-4c5b2a0ade90",
   "metadata": {},
   "source": [
    "**Objectives:**\n",
    "\n",
    "- List popular languages for Data Science.\n",
    "- Identify commonly used libraries in Data Science.\n",
    "- Demonstrate basic arithmetic operations in Python.\n",
    "- Explore tools used in the Data Science ecosystem.\n"
   ]
  },
  {
   "cell_type": "markdown",
   "id": "a772d4c2-da6a-4bed-93cb-34ac1bd9c750",
   "metadata": {},
   "source": [
    "## Author\n",
    "Rahim Azhar\n"
   ]
  },
  {
   "cell_type": "code",
   "execution_count": null,
   "id": "758207af-3a95-4381-b256-f7da054049f6",
   "metadata": {},
   "outputs": [],
   "source": []
  }
 ],
 "metadata": {
  "kernelspec": {
   "display_name": "Python 3 (ipykernel)",
   "language": "python",
   "name": "python3"
  },
  "language_info": {
   "codemirror_mode": {
    "name": "ipython",
    "version": 3
   },
   "file_extension": ".py",
   "mimetype": "text/x-python",
   "name": "python",
   "nbconvert_exporter": "python",
   "pygments_lexer": "ipython3",
   "version": "3.13.0"
  }
 },
 "nbformat": 4,
 "nbformat_minor": 5
}
